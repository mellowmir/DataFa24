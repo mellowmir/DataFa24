{
 "cells": [
  {
   "cell_type": "markdown",
   "id": "f91d0cd8-e14b-4447-b34e-97369d872e39",
   "metadata": {},
   "source": [
    "# Amir Wilson\n",
    "## Data in Emerging Media and Technology\n",
    "### I am ***VERY*** excited for this class. I want to get a better understanding of data in general and how I can use it to my benefit and potentially make myself a more attractive hire in the long run.\n",
    "### This class will be\n",
    "1. Fun\n",
    "2. Cool\n",
    "3. Swag\n",
    "\n",
    "#### I will be cool like this dog all semester.\n",
    "![Dog with sunglasses on](https://i.pinimg.com/236x/27/92/30/2792308202bf65ef28231949b5845136.jpg)"
   ]
  }
 ],
 "metadata": {
  "kernelspec": {
   "display_name": "Python 3 (ipykernel)",
   "language": "python",
   "name": "python3"
  },
  "language_info": {
   "codemirror_mode": {
    "name": "ipython",
    "version": 3
   },
   "file_extension": ".py",
   "mimetype": "text/x-python",
   "name": "python",
   "nbconvert_exporter": "python",
   "pygments_lexer": "ipython3",
   "version": "3.12.4"
  }
 },
 "nbformat": 4,
 "nbformat_minor": 5
}
