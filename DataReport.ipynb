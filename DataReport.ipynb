{
 "cells": [
  {
   "cell_type": "code",
   "execution_count": 397,
   "id": "28095637-d250-4782-9595-4f64bceba56d",
   "metadata": {},
   "outputs": [],
   "source": [
    "import json\n",
    "import pandas as pd\n",
    "import matplotlib as plt"
   ]
  },
  {
   "cell_type": "markdown",
   "id": "7c74ecdb-af8b-4a87-a051-38d1e29ab2dc",
   "metadata": {},
   "source": [
    "Amir Wilson's Instagram Data Report\n",
    "September 13, 2024\n",
    "I downloaded this data but I did not necessarily create it, it is more of an assessment and collection of information on how I used the platform \"Instagram\"\n",
    "This data was created to help Meta better understand its users or even to help them with sponsorships or advertisements. It is available to me to help me better understand myself or even for a sense of transparency for the company to the user.\n",
    "This data can be reliable because a lot of the data can be verified once shown however, it could be unreliable because there could be data being withheld. "
   ]
  },
  {
   "cell_type": "code",
   "execution_count": 399,
   "id": "8d7a9c40-fbaa-4028-aae3-78d14abf22c7",
   "metadata": {},
   "outputs": [],
   "source": [
    "with open(r\"liked_posts.json\") as j:\n",
    "    dict = json.load(j)"
   ]
  },
  {
   "cell_type": "code",
   "execution_count": 400,
   "id": "0d9e315c-e7d8-4353-92af-64ee26ab041c",
   "metadata": {},
   "outputs": [],
   "source": [
    "df = pd.DataFrame(dict)"
   ]
  },
  {
   "cell_type": "code",
   "execution_count": 401,
   "id": "c67cc834-4dbc-456b-a166-e404e442119d",
   "metadata": {},
   "outputs": [
    {
     "data": {
      "text/html": [
       "<div>\n",
       "<style scoped>\n",
       "    .dataframe tbody tr th:only-of-type {\n",
       "        vertical-align: middle;\n",
       "    }\n",
       "\n",
       "    .dataframe tbody tr th {\n",
       "        vertical-align: top;\n",
       "    }\n",
       "\n",
       "    .dataframe thead th {\n",
       "        text-align: right;\n",
       "    }\n",
       "</style>\n",
       "<table border=\"1\" class=\"dataframe\">\n",
       "  <thead>\n",
       "    <tr style=\"text-align: right;\">\n",
       "      <th></th>\n",
       "      <th>likes_media_likes</th>\n",
       "    </tr>\n",
       "  </thead>\n",
       "  <tbody>\n",
       "    <tr>\n",
       "      <th>0</th>\n",
       "      <td>{'title': 'sixers', 'string_list_data': [{'hre...</td>\n",
       "    </tr>\n",
       "    <tr>\n",
       "      <th>1</th>\n",
       "      <td>{'title': 'jmccain24', 'string_list_data': [{'...</td>\n",
       "    </tr>\n",
       "    <tr>\n",
       "      <th>2</th>\n",
       "      <td>{'title': 'deendose', 'string_list_data': [{'h...</td>\n",
       "    </tr>\n",
       "    <tr>\n",
       "      <th>3</th>\n",
       "      <td>{'title': 'espn', 'string_list_data': [{'href'...</td>\n",
       "    </tr>\n",
       "    <tr>\n",
       "      <th>4</th>\n",
       "      <td>{'title': 'zipbby', 'string_list_data': [{'hre...</td>\n",
       "    </tr>\n",
       "  </tbody>\n",
       "</table>\n",
       "</div>"
      ],
      "text/plain": [
       "                                   likes_media_likes\n",
       "0  {'title': 'sixers', 'string_list_data': [{'hre...\n",
       "1  {'title': 'jmccain24', 'string_list_data': [{'...\n",
       "2  {'title': 'deendose', 'string_list_data': [{'h...\n",
       "3  {'title': 'espn', 'string_list_data': [{'href'...\n",
       "4  {'title': 'zipbby', 'string_list_data': [{'hre..."
      ]
     },
     "execution_count": 401,
     "metadata": {},
     "output_type": "execute_result"
    }
   ],
   "source": [
    "df.head()"
   ]
  },
  {
   "cell_type": "code",
   "execution_count": 402,
   "id": "e028deee-aaeb-42e3-877e-3293053d06f3",
   "metadata": {},
   "outputs": [
    {
     "data": {
      "text/plain": [
       "dict_keys(['likes_media_likes'])"
      ]
     },
     "execution_count": 402,
     "metadata": {},
     "output_type": "execute_result"
    }
   ],
   "source": [
    "dict.keys()"
   ]
  },
  {
   "cell_type": "code",
   "execution_count": 403,
   "id": "8ddf3f57-3557-47a1-be92-54bfd00033a8",
   "metadata": {},
   "outputs": [],
   "source": [
    "df2 = pd.DataFrame(dict['likes_media_likes'])"
   ]
  },
  {
   "cell_type": "code",
   "execution_count": 404,
   "id": "ebf7de50-abb0-467e-af77-14b6ce413db5",
   "metadata": {},
   "outputs": [
    {
     "data": {
      "text/html": [
       "<div>\n",
       "<style scoped>\n",
       "    .dataframe tbody tr th:only-of-type {\n",
       "        vertical-align: middle;\n",
       "    }\n",
       "\n",
       "    .dataframe tbody tr th {\n",
       "        vertical-align: top;\n",
       "    }\n",
       "\n",
       "    .dataframe thead th {\n",
       "        text-align: right;\n",
       "    }\n",
       "</style>\n",
       "<table border=\"1\" class=\"dataframe\">\n",
       "  <thead>\n",
       "    <tr style=\"text-align: right;\">\n",
       "      <th></th>\n",
       "      <th>title</th>\n",
       "      <th>string_list_data</th>\n",
       "    </tr>\n",
       "  </thead>\n",
       "  <tbody>\n",
       "    <tr>\n",
       "      <th>0</th>\n",
       "      <td>sixers</td>\n",
       "      <td>[{'href': 'https://www.instagram.com/p/C_taAUV...</td>\n",
       "    </tr>\n",
       "    <tr>\n",
       "      <th>1</th>\n",
       "      <td>jmccain24</td>\n",
       "      <td>[{'href': 'https://www.instagram.com/reel/C_tH...</td>\n",
       "    </tr>\n",
       "    <tr>\n",
       "      <th>2</th>\n",
       "      <td>deendose</td>\n",
       "      <td>[{'href': 'https://www.instagram.com/p/C_tpYp0...</td>\n",
       "    </tr>\n",
       "    <tr>\n",
       "      <th>3</th>\n",
       "      <td>espn</td>\n",
       "      <td>[{'href': 'https://www.instagram.com/p/C_t3WF7...</td>\n",
       "    </tr>\n",
       "    <tr>\n",
       "      <th>4</th>\n",
       "      <td>zipbby</td>\n",
       "      <td>[{'href': 'https://www.instagram.com/p/C_twp48...</td>\n",
       "    </tr>\n",
       "  </tbody>\n",
       "</table>\n",
       "</div>"
      ],
      "text/plain": [
       "       title                                   string_list_data\n",
       "0     sixers  [{'href': 'https://www.instagram.com/p/C_taAUV...\n",
       "1  jmccain24  [{'href': 'https://www.instagram.com/reel/C_tH...\n",
       "2   deendose  [{'href': 'https://www.instagram.com/p/C_tpYp0...\n",
       "3       espn  [{'href': 'https://www.instagram.com/p/C_t3WF7...\n",
       "4     zipbby  [{'href': 'https://www.instagram.com/p/C_twp48..."
      ]
     },
     "execution_count": 404,
     "metadata": {},
     "output_type": "execute_result"
    }
   ],
   "source": [
    "df2.head()"
   ]
  },
  {
   "cell_type": "code",
   "execution_count": 405,
   "id": "153f7a3b-df18-417d-a389-d60289655280",
   "metadata": {},
   "outputs": [
    {
     "data": {
      "text/plain": [
       "list"
      ]
     },
     "execution_count": 405,
     "metadata": {},
     "output_type": "execute_result"
    }
   ],
   "source": [
    "type(df2['string_list_data'].iloc[0])"
   ]
  },
  {
   "cell_type": "code",
   "execution_count": 406,
   "id": "75008831-ebb4-4c70-b5ac-62fae8f126c5",
   "metadata": {},
   "outputs": [
    {
     "data": {
      "text/plain": [
       "1"
      ]
     },
     "execution_count": 406,
     "metadata": {},
     "output_type": "execute_result"
    }
   ],
   "source": [
    "len(df2['string_list_data'].iloc[0])"
   ]
  },
  {
   "cell_type": "code",
   "execution_count": 407,
   "id": "f3cfe6bc-2617-4eb0-85e5-d2c40a42c9e0",
   "metadata": {},
   "outputs": [
    {
     "data": {
      "text/plain": [
       "{'href': 'https://www.instagram.com/p/C_taAUVR_Lp/',\n",
       " 'value': 'ð\\x9f\\x91\\x8d',\n",
       " 'timestamp': 1725980331}"
      ]
     },
     "execution_count": 407,
     "metadata": {},
     "output_type": "execute_result"
    }
   ],
   "source": [
    "df2['string_list_data'].iloc[0][0]"
   ]
  },
  {
   "cell_type": "code",
   "execution_count": 408,
   "id": "93bf7efd-2275-4b72-9050-b75b4ff917f1",
   "metadata": {},
   "outputs": [
    {
     "data": {
      "text/plain": [
       "1725980331"
      ]
     },
     "execution_count": 408,
     "metadata": {},
     "output_type": "execute_result"
    }
   ],
   "source": [
    "df2['string_list_data'].iloc[0][0]['timestamp']"
   ]
  },
  {
   "cell_type": "code",
   "execution_count": 409,
   "id": "1df95986-2156-4f14-bd88-7a83af7220e6",
   "metadata": {},
   "outputs": [],
   "source": [
    "df2['Time of Like'] = [x[0]['timestamp'] for x in df2['string_list_data']]"
   ]
  },
  {
   "cell_type": "code",
   "execution_count": 410,
   "id": "bf52f832-89e1-4d51-a708-6356b8dc70cb",
   "metadata": {},
   "outputs": [
    {
     "data": {
      "text/html": [
       "<div>\n",
       "<style scoped>\n",
       "    .dataframe tbody tr th:only-of-type {\n",
       "        vertical-align: middle;\n",
       "    }\n",
       "\n",
       "    .dataframe tbody tr th {\n",
       "        vertical-align: top;\n",
       "    }\n",
       "\n",
       "    .dataframe thead th {\n",
       "        text-align: right;\n",
       "    }\n",
       "</style>\n",
       "<table border=\"1\" class=\"dataframe\">\n",
       "  <thead>\n",
       "    <tr style=\"text-align: right;\">\n",
       "      <th></th>\n",
       "      <th>title</th>\n",
       "      <th>string_list_data</th>\n",
       "      <th>Time of Like</th>\n",
       "    </tr>\n",
       "  </thead>\n",
       "  <tbody>\n",
       "    <tr>\n",
       "      <th>0</th>\n",
       "      <td>sixers</td>\n",
       "      <td>[{'href': 'https://www.instagram.com/p/C_taAUV...</td>\n",
       "      <td>1725980331</td>\n",
       "    </tr>\n",
       "    <tr>\n",
       "      <th>1</th>\n",
       "      <td>jmccain24</td>\n",
       "      <td>[{'href': 'https://www.instagram.com/reel/C_tH...</td>\n",
       "      <td>1725929936</td>\n",
       "    </tr>\n",
       "    <tr>\n",
       "      <th>2</th>\n",
       "      <td>deendose</td>\n",
       "      <td>[{'href': 'https://www.instagram.com/p/C_tpYp0...</td>\n",
       "      <td>1725929507</td>\n",
       "    </tr>\n",
       "    <tr>\n",
       "      <th>3</th>\n",
       "      <td>espn</td>\n",
       "      <td>[{'href': 'https://www.instagram.com/p/C_t3WF7...</td>\n",
       "      <td>1725929081</td>\n",
       "    </tr>\n",
       "    <tr>\n",
       "      <th>4</th>\n",
       "      <td>zipbby</td>\n",
       "      <td>[{'href': 'https://www.instagram.com/p/C_twp48...</td>\n",
       "      <td>1725928816</td>\n",
       "    </tr>\n",
       "  </tbody>\n",
       "</table>\n",
       "</div>"
      ],
      "text/plain": [
       "       title                                   string_list_data  Time of Like\n",
       "0     sixers  [{'href': 'https://www.instagram.com/p/C_taAUV...    1725980331\n",
       "1  jmccain24  [{'href': 'https://www.instagram.com/reel/C_tH...    1725929936\n",
       "2   deendose  [{'href': 'https://www.instagram.com/p/C_tpYp0...    1725929507\n",
       "3       espn  [{'href': 'https://www.instagram.com/p/C_t3WF7...    1725929081\n",
       "4     zipbby  [{'href': 'https://www.instagram.com/p/C_twp48...    1725928816"
      ]
     },
     "execution_count": 410,
     "metadata": {},
     "output_type": "execute_result"
    }
   ],
   "source": [
    "df2.head()"
   ]
  },
  {
   "cell_type": "code",
   "execution_count": 411,
   "id": "c7d3b100-593e-4ffe-bb5a-492825dee88f",
   "metadata": {},
   "outputs": [],
   "source": [
    "df3 = pd.DataFrame([x[0] for x in df2['string_list_data']])"
   ]
  },
  {
   "cell_type": "code",
   "execution_count": 412,
   "id": "7491ec10-45ad-41ca-871f-4c2d66e1cb0b",
   "metadata": {},
   "outputs": [
    {
     "data": {
      "text/html": [
       "<div>\n",
       "<style scoped>\n",
       "    .dataframe tbody tr th:only-of-type {\n",
       "        vertical-align: middle;\n",
       "    }\n",
       "\n",
       "    .dataframe tbody tr th {\n",
       "        vertical-align: top;\n",
       "    }\n",
       "\n",
       "    .dataframe thead th {\n",
       "        text-align: right;\n",
       "    }\n",
       "</style>\n",
       "<table border=\"1\" class=\"dataframe\">\n",
       "  <thead>\n",
       "    <tr style=\"text-align: right;\">\n",
       "      <th></th>\n",
       "      <th>href</th>\n",
       "      <th>value</th>\n",
       "      <th>timestamp</th>\n",
       "      <th>title</th>\n",
       "    </tr>\n",
       "  </thead>\n",
       "  <tbody>\n",
       "    <tr>\n",
       "      <th>0</th>\n",
       "      <td>https://www.instagram.com/p/C_taAUVR_Lp/</td>\n",
       "      <td>ð</td>\n",
       "      <td>1725980331</td>\n",
       "      <td>sixers</td>\n",
       "    </tr>\n",
       "    <tr>\n",
       "      <th>1</th>\n",
       "      <td>https://www.instagram.com/reel/C_tHOjPM1e-/</td>\n",
       "      <td>ð</td>\n",
       "      <td>1725929936</td>\n",
       "      <td>jmccain24</td>\n",
       "    </tr>\n",
       "    <tr>\n",
       "      <th>2</th>\n",
       "      <td>https://www.instagram.com/p/C_tpYp0P4wI/</td>\n",
       "      <td>ð</td>\n",
       "      <td>1725929507</td>\n",
       "      <td>deendose</td>\n",
       "    </tr>\n",
       "    <tr>\n",
       "      <th>3</th>\n",
       "      <td>https://www.instagram.com/p/C_t3WF7RBJ8/</td>\n",
       "      <td>ð</td>\n",
       "      <td>1725929081</td>\n",
       "      <td>espn</td>\n",
       "    </tr>\n",
       "    <tr>\n",
       "      <th>4</th>\n",
       "      <td>https://www.instagram.com/p/C_twp48yhb1/</td>\n",
       "      <td>ð</td>\n",
       "      <td>1725928816</td>\n",
       "      <td>zipbby</td>\n",
       "    </tr>\n",
       "  </tbody>\n",
       "</table>\n",
       "</div>"
      ],
      "text/plain": [
       "                                          href value   timestamp      title\n",
       "0     https://www.instagram.com/p/C_taAUVR_Lp/  ð  1725980331     sixers\n",
       "1  https://www.instagram.com/reel/C_tHOjPM1e-/  ð  1725929936  jmccain24\n",
       "2     https://www.instagram.com/p/C_tpYp0P4wI/  ð  1725929507   deendose\n",
       "3     https://www.instagram.com/p/C_t3WF7RBJ8/  ð  1725929081       espn\n",
       "4     https://www.instagram.com/p/C_twp48yhb1/  ð  1725928816     zipbby"
      ]
     },
     "execution_count": 412,
     "metadata": {},
     "output_type": "execute_result"
    }
   ],
   "source": [
    "df3['title'] = df2['title']\n",
    "df3.head()"
   ]
  },
  {
   "cell_type": "code",
   "execution_count": 413,
   "id": "b7160a77-e816-4998-853c-06e0ec7ee6a7",
   "metadata": {},
   "outputs": [
    {
     "data": {
      "text/html": [
       "<div>\n",
       "<style scoped>\n",
       "    .dataframe tbody tr th:only-of-type {\n",
       "        vertical-align: middle;\n",
       "    }\n",
       "\n",
       "    .dataframe tbody tr th {\n",
       "        vertical-align: top;\n",
       "    }\n",
       "\n",
       "    .dataframe thead th {\n",
       "        text-align: right;\n",
       "    }\n",
       "</style>\n",
       "<table border=\"1\" class=\"dataframe\">\n",
       "  <thead>\n",
       "    <tr style=\"text-align: right;\">\n",
       "      <th></th>\n",
       "      <th>href</th>\n",
       "      <th>value</th>\n",
       "      <th>timestamp</th>\n",
       "    </tr>\n",
       "    <tr>\n",
       "      <th>title</th>\n",
       "      <th></th>\n",
       "      <th></th>\n",
       "      <th></th>\n",
       "    </tr>\n",
       "  </thead>\n",
       "  <tbody>\n",
       "    <tr>\n",
       "      <th>wwe</th>\n",
       "      <td>134</td>\n",
       "      <td>134</td>\n",
       "      <td>134</td>\n",
       "    </tr>\n",
       "    <tr>\n",
       "      <th>sportscenter</th>\n",
       "      <td>133</td>\n",
       "      <td>133</td>\n",
       "      <td>133</td>\n",
       "    </tr>\n",
       "    <tr>\n",
       "      <th>bleacherreport</th>\n",
       "      <td>125</td>\n",
       "      <td>125</td>\n",
       "      <td>125</td>\n",
       "    </tr>\n",
       "    <tr>\n",
       "      <th>sixers</th>\n",
       "      <td>90</td>\n",
       "      <td>90</td>\n",
       "      <td>90</td>\n",
       "    </tr>\n",
       "    <tr>\n",
       "      <th>espn</th>\n",
       "      <td>83</td>\n",
       "      <td>83</td>\n",
       "      <td>83</td>\n",
       "    </tr>\n",
       "    <tr>\n",
       "      <th>nba.in_depth</th>\n",
       "      <td>75</td>\n",
       "      <td>75</td>\n",
       "      <td>75</td>\n",
       "    </tr>\n",
       "    <tr>\n",
       "      <th>sidelinesources</th>\n",
       "      <td>73</td>\n",
       "      <td>73</td>\n",
       "      <td>73</td>\n",
       "    </tr>\n",
       "    <tr>\n",
       "      <th>futurecannibisfarmer</th>\n",
       "      <td>55</td>\n",
       "      <td>55</td>\n",
       "      <td>55</td>\n",
       "    </tr>\n",
       "    <tr>\n",
       "      <th>nba</th>\n",
       "      <td>53</td>\n",
       "      <td>53</td>\n",
       "      <td>53</td>\n",
       "    </tr>\n",
       "    <tr>\n",
       "      <th>hidden.ny</th>\n",
       "      <td>48</td>\n",
       "      <td>48</td>\n",
       "      <td>48</td>\n",
       "    </tr>\n",
       "  </tbody>\n",
       "</table>\n",
       "</div>"
      ],
      "text/plain": [
       "                      href  value  timestamp\n",
       "title                                       \n",
       "wwe                    134    134        134\n",
       "sportscenter           133    133        133\n",
       "bleacherreport         125    125        125\n",
       "sixers                  90     90         90\n",
       "espn                    83     83         83\n",
       "nba.in_depth            75     75         75\n",
       "sidelinesources         73     73         73\n",
       "futurecannibisfarmer    55     55         55\n",
       "nba                     53     53         53\n",
       "hidden.ny               48     48         48"
      ]
     },
     "execution_count": 413,
     "metadata": {},
     "output_type": "execute_result"
    }
   ],
   "source": [
    "df3.groupby('title').count().sort_values('href', ascending = False).head(10)"
   ]
  },
  {
   "cell_type": "markdown",
   "id": "92cccf66-0b16-4511-a1f4-30ee1891eed1",
   "metadata": {},
   "source": [
    "The next thing I thought would be interesting to get a better look at regarding my data was my following. How many accounts have I followed, when did I follow them, and what types of accounts am I following, these are all questions that came to my mind. Knowing me and my behaviors on the app recently a hypothesis I wanted to test and thought that I could test given my current knowledge was that I have followed more people recently than I normally do or that I have before. This could be tested using the timestamp which I was familiar with from the first portion of the project and that fortified my interest in testing this hypothesis."
   ]
  },
  {
   "cell_type": "code",
   "execution_count": 414,
   "id": "904bdfd9-692f-4379-b7b3-9c37d9fe56e0",
   "metadata": {},
   "outputs": [],
   "source": [
    "with open(r\"following.json\") as k:\n",
    "    dict = json.load(k)"
   ]
  },
  {
   "cell_type": "markdown",
   "id": "56fe86d5-dd8a-445b-9bac-57cd8a8b4263",
   "metadata": {},
   "source": [
    "Opening the following json file"
   ]
  },
  {
   "cell_type": "code",
   "execution_count": 415,
   "id": "5b41ede5-eb58-4371-950f-9e41d55164e1",
   "metadata": {},
   "outputs": [],
   "source": [
    "df4 = pd.DataFrame(dict)"
   ]
  },
  {
   "cell_type": "code",
   "execution_count": 416,
   "id": "197b3201-87ca-46af-9a04-6716225fa5d1",
   "metadata": {},
   "outputs": [
    {
     "data": {
      "text/html": [
       "<div>\n",
       "<style scoped>\n",
       "    .dataframe tbody tr th:only-of-type {\n",
       "        vertical-align: middle;\n",
       "    }\n",
       "\n",
       "    .dataframe tbody tr th {\n",
       "        vertical-align: top;\n",
       "    }\n",
       "\n",
       "    .dataframe thead th {\n",
       "        text-align: right;\n",
       "    }\n",
       "</style>\n",
       "<table border=\"1\" class=\"dataframe\">\n",
       "  <thead>\n",
       "    <tr style=\"text-align: right;\">\n",
       "      <th></th>\n",
       "      <th>relationships_following</th>\n",
       "    </tr>\n",
       "  </thead>\n",
       "  <tbody>\n",
       "    <tr>\n",
       "      <th>0</th>\n",
       "      <td>{'title': '', 'media_list_data': [], 'string_l...</td>\n",
       "    </tr>\n",
       "    <tr>\n",
       "      <th>1</th>\n",
       "      <td>{'title': '', 'media_list_data': [], 'string_l...</td>\n",
       "    </tr>\n",
       "    <tr>\n",
       "      <th>2</th>\n",
       "      <td>{'title': '', 'media_list_data': [], 'string_l...</td>\n",
       "    </tr>\n",
       "    <tr>\n",
       "      <th>3</th>\n",
       "      <td>{'title': '', 'media_list_data': [], 'string_l...</td>\n",
       "    </tr>\n",
       "    <tr>\n",
       "      <th>4</th>\n",
       "      <td>{'title': '', 'media_list_data': [], 'string_l...</td>\n",
       "    </tr>\n",
       "  </tbody>\n",
       "</table>\n",
       "</div>"
      ],
      "text/plain": [
       "                             relationships_following\n",
       "0  {'title': '', 'media_list_data': [], 'string_l...\n",
       "1  {'title': '', 'media_list_data': [], 'string_l...\n",
       "2  {'title': '', 'media_list_data': [], 'string_l...\n",
       "3  {'title': '', 'media_list_data': [], 'string_l...\n",
       "4  {'title': '', 'media_list_data': [], 'string_l..."
      ]
     },
     "execution_count": 416,
     "metadata": {},
     "output_type": "execute_result"
    }
   ],
   "source": [
    "df4.head()"
   ]
  },
  {
   "cell_type": "markdown",
   "id": "88af6012-8a37-4fcb-b84a-1551bea209a3",
   "metadata": {},
   "source": [
    "I was interested in seeing what a basic dataframe would look like before I looked at the keys or did any work on it."
   ]
  },
  {
   "cell_type": "code",
   "execution_count": 417,
   "id": "1f0a37b3-3bc0-4cdd-9b87-070867ae6b6c",
   "metadata": {},
   "outputs": [
    {
     "data": {
      "text/plain": [
       "dict_keys(['relationships_following'])"
      ]
     },
     "execution_count": 417,
     "metadata": {},
     "output_type": "execute_result"
    }
   ],
   "source": [
    "dict.keys()"
   ]
  },
  {
   "cell_type": "code",
   "execution_count": 418,
   "id": "cdff8e1f-3aad-4f5d-a8d3-2780f04d49b6",
   "metadata": {},
   "outputs": [],
   "source": [
    "df5 = pd.DataFrame(dict['relationships_following'])"
   ]
  },
  {
   "cell_type": "code",
   "execution_count": 419,
   "id": "97bc1420-9506-430e-9161-e0451214bdbc",
   "metadata": {},
   "outputs": [
    {
     "data": {
      "text/html": [
       "<div>\n",
       "<style scoped>\n",
       "    .dataframe tbody tr th:only-of-type {\n",
       "        vertical-align: middle;\n",
       "    }\n",
       "\n",
       "    .dataframe tbody tr th {\n",
       "        vertical-align: top;\n",
       "    }\n",
       "\n",
       "    .dataframe thead th {\n",
       "        text-align: right;\n",
       "    }\n",
       "</style>\n",
       "<table border=\"1\" class=\"dataframe\">\n",
       "  <thead>\n",
       "    <tr style=\"text-align: right;\">\n",
       "      <th></th>\n",
       "      <th>title</th>\n",
       "      <th>media_list_data</th>\n",
       "      <th>string_list_data</th>\n",
       "    </tr>\n",
       "  </thead>\n",
       "  <tbody>\n",
       "    <tr>\n",
       "      <th>0</th>\n",
       "      <td></td>\n",
       "      <td>[]</td>\n",
       "      <td>[{'href': 'https://www.instagram.com/k1ng_vert...</td>\n",
       "    </tr>\n",
       "    <tr>\n",
       "      <th>1</th>\n",
       "      <td></td>\n",
       "      <td>[]</td>\n",
       "      <td>[{'href': 'https://www.instagram.com/swapafr',...</td>\n",
       "    </tr>\n",
       "    <tr>\n",
       "      <th>2</th>\n",
       "      <td></td>\n",
       "      <td>[]</td>\n",
       "      <td>[{'href': 'https://www.instagram.com/thankscho...</td>\n",
       "    </tr>\n",
       "    <tr>\n",
       "      <th>3</th>\n",
       "      <td></td>\n",
       "      <td>[]</td>\n",
       "      <td>[{'href': 'https://www.instagram.com/n.ieshhaa...</td>\n",
       "    </tr>\n",
       "    <tr>\n",
       "      <th>4</th>\n",
       "      <td></td>\n",
       "      <td>[]</td>\n",
       "      <td>[{'href': 'https://www.instagram.com/olarunt',...</td>\n",
       "    </tr>\n",
       "    <tr>\n",
       "      <th>5</th>\n",
       "      <td></td>\n",
       "      <td>[]</td>\n",
       "      <td>[{'href': 'https://www.instagram.com/phillygya...</td>\n",
       "    </tr>\n",
       "    <tr>\n",
       "      <th>6</th>\n",
       "      <td></td>\n",
       "      <td>[]</td>\n",
       "      <td>[{'href': 'https://www.instagram.com/nevergoin...</td>\n",
       "    </tr>\n",
       "    <tr>\n",
       "      <th>7</th>\n",
       "      <td></td>\n",
       "      <td>[]</td>\n",
       "      <td>[{'href': 'https://www.instagram.com/iwantnish...</td>\n",
       "    </tr>\n",
       "    <tr>\n",
       "      <th>8</th>\n",
       "      <td></td>\n",
       "      <td>[]</td>\n",
       "      <td>[{'href': 'https://www.instagram.com/foenemcre...</td>\n",
       "    </tr>\n",
       "    <tr>\n",
       "      <th>9</th>\n",
       "      <td></td>\n",
       "      <td>[]</td>\n",
       "      <td>[{'href': 'https://www.instagram.com/i1_7.c', ...</td>\n",
       "    </tr>\n",
       "  </tbody>\n",
       "</table>\n",
       "</div>"
      ],
      "text/plain": [
       "  title media_list_data                                   string_list_data\n",
       "0                    []  [{'href': 'https://www.instagram.com/k1ng_vert...\n",
       "1                    []  [{'href': 'https://www.instagram.com/swapafr',...\n",
       "2                    []  [{'href': 'https://www.instagram.com/thankscho...\n",
       "3                    []  [{'href': 'https://www.instagram.com/n.ieshhaa...\n",
       "4                    []  [{'href': 'https://www.instagram.com/olarunt',...\n",
       "5                    []  [{'href': 'https://www.instagram.com/phillygya...\n",
       "6                    []  [{'href': 'https://www.instagram.com/nevergoin...\n",
       "7                    []  [{'href': 'https://www.instagram.com/iwantnish...\n",
       "8                    []  [{'href': 'https://www.instagram.com/foenemcre...\n",
       "9                    []  [{'href': 'https://www.instagram.com/i1_7.c', ..."
      ]
     },
     "execution_count": 419,
     "metadata": {},
     "output_type": "execute_result"
    }
   ],
   "source": [
    "df5.head(10)"
   ]
  },
  {
   "cell_type": "markdown",
   "id": "9a5e48d0-6d5c-49b4-a5b8-80ab1aa5069c",
   "metadata": {},
   "source": [
    "This did not make much sense to me but I saw instagram data and what seemed to be links to accounts which made me feel good and like I was progressing"
   ]
  },
  {
   "cell_type": "code",
   "execution_count": 420,
   "id": "a063704d-3720-41e7-b152-62a039695d49",
   "metadata": {},
   "outputs": [
    {
     "data": {
      "text/plain": [
       "list"
      ]
     },
     "execution_count": 420,
     "metadata": {},
     "output_type": "execute_result"
    }
   ],
   "source": [
    "type(df5['string_list_data'].iloc[0])"
   ]
  },
  {
   "cell_type": "code",
   "execution_count": 421,
   "id": "a019d5a4-4db6-4bbb-9a0c-7da58b08a3e3",
   "metadata": {},
   "outputs": [
    {
     "data": {
      "text/plain": [
       "{'href': 'https://www.instagram.com/k1ng_vert_',\n",
       " 'value': 'k1ng_vert_',\n",
       " 'timestamp': 1725887506}"
      ]
     },
     "execution_count": 421,
     "metadata": {},
     "output_type": "execute_result"
    }
   ],
   "source": [
    "df5['string_list_data'].iloc[0][0]"
   ]
  },
  {
   "cell_type": "markdown",
   "id": "419e8e62-58e1-480d-b16d-bd4ecd613ef8",
   "metadata": {},
   "source": [
    "Seeing what \"string_list_data\" held made me certain that what I wanted to test would be achievable it just was a matter of me having the information and knowledge to achieve it "
   ]
  },
  {
   "cell_type": "code",
   "execution_count": 422,
   "id": "5400d6d6-d82e-4935-adb7-3691c27dfe90",
   "metadata": {},
   "outputs": [],
   "source": [
    "df5['Time of Follow'] = [x[0]['timestamp'] for x in df5['string_list_data']]"
   ]
  },
  {
   "cell_type": "markdown",
   "id": "09e75e9d-c0ce-4e48-94ea-6e51202c6c02",
   "metadata": {},
   "source": [
    "I wanted the time of follow to be clear so that it would be easier for me to test my hypothesis so I made time of follow the name of a column in the dataframe"
   ]
  },
  {
   "cell_type": "code",
   "execution_count": 423,
   "id": "b315f530-29de-4da0-b3dc-b354b38ed9f5",
   "metadata": {},
   "outputs": [
    {
     "data": {
      "text/html": [
       "<div>\n",
       "<style scoped>\n",
       "    .dataframe tbody tr th:only-of-type {\n",
       "        vertical-align: middle;\n",
       "    }\n",
       "\n",
       "    .dataframe tbody tr th {\n",
       "        vertical-align: top;\n",
       "    }\n",
       "\n",
       "    .dataframe thead th {\n",
       "        text-align: right;\n",
       "    }\n",
       "</style>\n",
       "<table border=\"1\" class=\"dataframe\">\n",
       "  <thead>\n",
       "    <tr style=\"text-align: right;\">\n",
       "      <th></th>\n",
       "      <th>title</th>\n",
       "      <th>media_list_data</th>\n",
       "      <th>string_list_data</th>\n",
       "      <th>Time of Follow</th>\n",
       "    </tr>\n",
       "  </thead>\n",
       "  <tbody>\n",
       "    <tr>\n",
       "      <th>0</th>\n",
       "      <td></td>\n",
       "      <td>[]</td>\n",
       "      <td>[{'href': 'https://www.instagram.com/k1ng_vert...</td>\n",
       "      <td>1725887506</td>\n",
       "    </tr>\n",
       "    <tr>\n",
       "      <th>1</th>\n",
       "      <td></td>\n",
       "      <td>[]</td>\n",
       "      <td>[{'href': 'https://www.instagram.com/swapafr',...</td>\n",
       "      <td>1725679895</td>\n",
       "    </tr>\n",
       "    <tr>\n",
       "      <th>2</th>\n",
       "      <td></td>\n",
       "      <td>[]</td>\n",
       "      <td>[{'href': 'https://www.instagram.com/thankscho...</td>\n",
       "      <td>1725642228</td>\n",
       "    </tr>\n",
       "    <tr>\n",
       "      <th>3</th>\n",
       "      <td></td>\n",
       "      <td>[]</td>\n",
       "      <td>[{'href': 'https://www.instagram.com/n.ieshhaa...</td>\n",
       "      <td>1725386551</td>\n",
       "    </tr>\n",
       "    <tr>\n",
       "      <th>4</th>\n",
       "      <td></td>\n",
       "      <td>[]</td>\n",
       "      <td>[{'href': 'https://www.instagram.com/olarunt',...</td>\n",
       "      <td>1725262958</td>\n",
       "    </tr>\n",
       "    <tr>\n",
       "      <th>5</th>\n",
       "      <td></td>\n",
       "      <td>[]</td>\n",
       "      <td>[{'href': 'https://www.instagram.com/phillygya...</td>\n",
       "      <td>1724616579</td>\n",
       "    </tr>\n",
       "    <tr>\n",
       "      <th>6</th>\n",
       "      <td></td>\n",
       "      <td>[]</td>\n",
       "      <td>[{'href': 'https://www.instagram.com/nevergoin...</td>\n",
       "      <td>1724426473</td>\n",
       "    </tr>\n",
       "    <tr>\n",
       "      <th>7</th>\n",
       "      <td></td>\n",
       "      <td>[]</td>\n",
       "      <td>[{'href': 'https://www.instagram.com/iwantnish...</td>\n",
       "      <td>1724284995</td>\n",
       "    </tr>\n",
       "    <tr>\n",
       "      <th>8</th>\n",
       "      <td></td>\n",
       "      <td>[]</td>\n",
       "      <td>[{'href': 'https://www.instagram.com/foenemcre...</td>\n",
       "      <td>1724256372</td>\n",
       "    </tr>\n",
       "    <tr>\n",
       "      <th>9</th>\n",
       "      <td></td>\n",
       "      <td>[]</td>\n",
       "      <td>[{'href': 'https://www.instagram.com/i1_7.c', ...</td>\n",
       "      <td>1724060506</td>\n",
       "    </tr>\n",
       "  </tbody>\n",
       "</table>\n",
       "</div>"
      ],
      "text/plain": [
       "  title media_list_data                                   string_list_data  \\\n",
       "0                    []  [{'href': 'https://www.instagram.com/k1ng_vert...   \n",
       "1                    []  [{'href': 'https://www.instagram.com/swapafr',...   \n",
       "2                    []  [{'href': 'https://www.instagram.com/thankscho...   \n",
       "3                    []  [{'href': 'https://www.instagram.com/n.ieshhaa...   \n",
       "4                    []  [{'href': 'https://www.instagram.com/olarunt',...   \n",
       "5                    []  [{'href': 'https://www.instagram.com/phillygya...   \n",
       "6                    []  [{'href': 'https://www.instagram.com/nevergoin...   \n",
       "7                    []  [{'href': 'https://www.instagram.com/iwantnish...   \n",
       "8                    []  [{'href': 'https://www.instagram.com/foenemcre...   \n",
       "9                    []  [{'href': 'https://www.instagram.com/i1_7.c', ...   \n",
       "\n",
       "   Time of Follow  \n",
       "0      1725887506  \n",
       "1      1725679895  \n",
       "2      1725642228  \n",
       "3      1725386551  \n",
       "4      1725262958  \n",
       "5      1724616579  \n",
       "6      1724426473  \n",
       "7      1724284995  \n",
       "8      1724256372  \n",
       "9      1724060506  "
      ]
     },
     "execution_count": 423,
     "metadata": {},
     "output_type": "execute_result"
    }
   ],
   "source": [
    "df5.head(10)"
   ]
  },
  {
   "cell_type": "code",
   "execution_count": 424,
   "id": "f6b0f5a5-5ca8-4326-a021-030afc269240",
   "metadata": {},
   "outputs": [
    {
     "data": {
      "text/plain": [
       "(596, 4)"
      ]
     },
     "execution_count": 424,
     "metadata": {},
     "output_type": "execute_result"
    }
   ],
   "source": [
    "df5.shape"
   ]
  },
  {
   "cell_type": "markdown",
   "id": "057d02f9-ed13-4f8b-9823-8f9fc0a8bb08",
   "metadata": {},
   "source": [
    "Realized I didn't know the shape of the dataframe and I knew that would help me with my hypothesis"
   ]
  },
  {
   "cell_type": "code",
   "execution_count": 425,
   "id": "34f80a20-327b-468e-81a0-b93d1a4846f7",
   "metadata": {},
   "outputs": [
    {
     "data": {
      "text/plain": [
       "Index(['title', 'media_list_data', 'string_list_data', 'Time of Follow'], dtype='object')"
      ]
     },
     "execution_count": 425,
     "metadata": {},
     "output_type": "execute_result"
    }
   ],
   "source": [
    "df5.columns"
   ]
  },
  {
   "cell_type": "code",
   "execution_count": 426,
   "id": "ebbd06c1-9f35-41ec-baf4-90284e98edf9",
   "metadata": {},
   "outputs": [
    {
     "data": {
      "text/html": [
       "<div>\n",
       "<style scoped>\n",
       "    .dataframe tbody tr th:only-of-type {\n",
       "        vertical-align: middle;\n",
       "    }\n",
       "\n",
       "    .dataframe tbody tr th {\n",
       "        vertical-align: top;\n",
       "    }\n",
       "\n",
       "    .dataframe thead th {\n",
       "        text-align: right;\n",
       "    }\n",
       "</style>\n",
       "<table border=\"1\" class=\"dataframe\">\n",
       "  <thead>\n",
       "    <tr style=\"text-align: right;\">\n",
       "      <th></th>\n",
       "      <th>string_list_data</th>\n",
       "      <th>Time of Follow</th>\n",
       "    </tr>\n",
       "  </thead>\n",
       "  <tbody>\n",
       "    <tr>\n",
       "      <th>0</th>\n",
       "      <td>[{'href': 'https://www.instagram.com/k1ng_vert...</td>\n",
       "      <td>1725887506</td>\n",
       "    </tr>\n",
       "    <tr>\n",
       "      <th>1</th>\n",
       "      <td>[{'href': 'https://www.instagram.com/swapafr',...</td>\n",
       "      <td>1725679895</td>\n",
       "    </tr>\n",
       "    <tr>\n",
       "      <th>2</th>\n",
       "      <td>[{'href': 'https://www.instagram.com/thankscho...</td>\n",
       "      <td>1725642228</td>\n",
       "    </tr>\n",
       "    <tr>\n",
       "      <th>3</th>\n",
       "      <td>[{'href': 'https://www.instagram.com/n.ieshhaa...</td>\n",
       "      <td>1725386551</td>\n",
       "    </tr>\n",
       "    <tr>\n",
       "      <th>4</th>\n",
       "      <td>[{'href': 'https://www.instagram.com/olarunt',...</td>\n",
       "      <td>1725262958</td>\n",
       "    </tr>\n",
       "  </tbody>\n",
       "</table>\n",
       "</div>"
      ],
      "text/plain": [
       "                                    string_list_data  Time of Follow\n",
       "0  [{'href': 'https://www.instagram.com/k1ng_vert...      1725887506\n",
       "1  [{'href': 'https://www.instagram.com/swapafr',...      1725679895\n",
       "2  [{'href': 'https://www.instagram.com/thankscho...      1725642228\n",
       "3  [{'href': 'https://www.instagram.com/n.ieshhaa...      1725386551\n",
       "4  [{'href': 'https://www.instagram.com/olarunt',...      1725262958"
      ]
     },
     "execution_count": 426,
     "metadata": {},
     "output_type": "execute_result"
    }
   ],
   "source": [
    "del df5[\"media_list_data\"]\n",
    "del df5[\"title\"]\n",
    "df5.head()"
   ]
  },
  {
   "cell_type": "markdown",
   "id": "35408e6c-0333-4596-b475-6190a75394fd",
   "metadata": {},
   "source": [
    "Deleted some columns with the intention of making the dataframe easier to understand, I intended on adding more but title had nothing in it and media_list_data had an empty box symbol thing?"
   ]
  },
  {
   "cell_type": "code",
   "execution_count": 427,
   "id": "6896a2e5-de86-4cff-9135-53f5494b012c",
   "metadata": {},
   "outputs": [
    {
     "data": {
      "text/html": [
       "<div>\n",
       "<style scoped>\n",
       "    .dataframe tbody tr th:only-of-type {\n",
       "        vertical-align: middle;\n",
       "    }\n",
       "\n",
       "    .dataframe tbody tr th {\n",
       "        vertical-align: top;\n",
       "    }\n",
       "\n",
       "    .dataframe thead th {\n",
       "        text-align: right;\n",
       "    }\n",
       "</style>\n",
       "<table border=\"1\" class=\"dataframe\">\n",
       "  <thead>\n",
       "    <tr style=\"text-align: right;\">\n",
       "      <th></th>\n",
       "      <th>string_list_data</th>\n",
       "      <th>Time of Follow</th>\n",
       "      <th>Account Name</th>\n",
       "    </tr>\n",
       "  </thead>\n",
       "  <tbody>\n",
       "    <tr>\n",
       "      <th>0</th>\n",
       "      <td>[{'href': 'https://www.instagram.com/k1ng_vert...</td>\n",
       "      <td>1725887506</td>\n",
       "      <td>k1ng_vert_</td>\n",
       "    </tr>\n",
       "    <tr>\n",
       "      <th>1</th>\n",
       "      <td>[{'href': 'https://www.instagram.com/swapafr',...</td>\n",
       "      <td>1725679895</td>\n",
       "      <td>swapafr</td>\n",
       "    </tr>\n",
       "    <tr>\n",
       "      <th>2</th>\n",
       "      <td>[{'href': 'https://www.instagram.com/thankscho...</td>\n",
       "      <td>1725642228</td>\n",
       "      <td>thankschow</td>\n",
       "    </tr>\n",
       "    <tr>\n",
       "      <th>3</th>\n",
       "      <td>[{'href': 'https://www.instagram.com/n.ieshhaa...</td>\n",
       "      <td>1725386551</td>\n",
       "      <td>n.ieshhaa</td>\n",
       "    </tr>\n",
       "    <tr>\n",
       "      <th>4</th>\n",
       "      <td>[{'href': 'https://www.instagram.com/olarunt',...</td>\n",
       "      <td>1725262958</td>\n",
       "      <td>olarunt</td>\n",
       "    </tr>\n",
       "  </tbody>\n",
       "</table>\n",
       "</div>"
      ],
      "text/plain": [
       "                                    string_list_data  Time of Follow  \\\n",
       "0  [{'href': 'https://www.instagram.com/k1ng_vert...      1725887506   \n",
       "1  [{'href': 'https://www.instagram.com/swapafr',...      1725679895   \n",
       "2  [{'href': 'https://www.instagram.com/thankscho...      1725642228   \n",
       "3  [{'href': 'https://www.instagram.com/n.ieshhaa...      1725386551   \n",
       "4  [{'href': 'https://www.instagram.com/olarunt',...      1725262958   \n",
       "\n",
       "  Account Name  \n",
       "0   k1ng_vert_  \n",
       "1      swapafr  \n",
       "2   thankschow  \n",
       "3    n.ieshhaa  \n",
       "4      olarunt  "
      ]
     },
     "execution_count": 427,
     "metadata": {},
     "output_type": "execute_result"
    }
   ],
   "source": [
    "df5['Account Name'] = [x[0]['value'] for x in df5['string_list_data']]\n",
    "df5.head()"
   ]
  },
  {
   "cell_type": "code",
   "execution_count": 428,
   "id": "7b1e8ca6-ec61-49cf-b502-45c64ff7a1e7",
   "metadata": {},
   "outputs": [
    {
     "data": {
      "text/html": [
       "<div>\n",
       "<style scoped>\n",
       "    .dataframe tbody tr th:only-of-type {\n",
       "        vertical-align: middle;\n",
       "    }\n",
       "\n",
       "    .dataframe tbody tr th {\n",
       "        vertical-align: top;\n",
       "    }\n",
       "\n",
       "    .dataframe thead th {\n",
       "        text-align: right;\n",
       "    }\n",
       "</style>\n",
       "<table border=\"1\" class=\"dataframe\">\n",
       "  <thead>\n",
       "    <tr style=\"text-align: right;\">\n",
       "      <th></th>\n",
       "      <th>string_list_data</th>\n",
       "      <th>Time of Follow</th>\n",
       "      <th>Account Name</th>\n",
       "      <th>Link to Account</th>\n",
       "    </tr>\n",
       "  </thead>\n",
       "  <tbody>\n",
       "    <tr>\n",
       "      <th>0</th>\n",
       "      <td>[{'href': 'https://www.instagram.com/k1ng_vert...</td>\n",
       "      <td>1725887506</td>\n",
       "      <td>k1ng_vert_</td>\n",
       "      <td>https://www.instagram.com/k1ng_vert_</td>\n",
       "    </tr>\n",
       "    <tr>\n",
       "      <th>1</th>\n",
       "      <td>[{'href': 'https://www.instagram.com/swapafr',...</td>\n",
       "      <td>1725679895</td>\n",
       "      <td>swapafr</td>\n",
       "      <td>https://www.instagram.com/swapafr</td>\n",
       "    </tr>\n",
       "    <tr>\n",
       "      <th>2</th>\n",
       "      <td>[{'href': 'https://www.instagram.com/thankscho...</td>\n",
       "      <td>1725642228</td>\n",
       "      <td>thankschow</td>\n",
       "      <td>https://www.instagram.com/thankschow</td>\n",
       "    </tr>\n",
       "    <tr>\n",
       "      <th>3</th>\n",
       "      <td>[{'href': 'https://www.instagram.com/n.ieshhaa...</td>\n",
       "      <td>1725386551</td>\n",
       "      <td>n.ieshhaa</td>\n",
       "      <td>https://www.instagram.com/n.ieshhaa</td>\n",
       "    </tr>\n",
       "    <tr>\n",
       "      <th>4</th>\n",
       "      <td>[{'href': 'https://www.instagram.com/olarunt',...</td>\n",
       "      <td>1725262958</td>\n",
       "      <td>olarunt</td>\n",
       "      <td>https://www.instagram.com/olarunt</td>\n",
       "    </tr>\n",
       "  </tbody>\n",
       "</table>\n",
       "</div>"
      ],
      "text/plain": [
       "                                    string_list_data  Time of Follow  \\\n",
       "0  [{'href': 'https://www.instagram.com/k1ng_vert...      1725887506   \n",
       "1  [{'href': 'https://www.instagram.com/swapafr',...      1725679895   \n",
       "2  [{'href': 'https://www.instagram.com/thankscho...      1725642228   \n",
       "3  [{'href': 'https://www.instagram.com/n.ieshhaa...      1725386551   \n",
       "4  [{'href': 'https://www.instagram.com/olarunt',...      1725262958   \n",
       "\n",
       "  Account Name                       Link to Account  \n",
       "0   k1ng_vert_  https://www.instagram.com/k1ng_vert_  \n",
       "1      swapafr     https://www.instagram.com/swapafr  \n",
       "2   thankschow  https://www.instagram.com/thankschow  \n",
       "3    n.ieshhaa   https://www.instagram.com/n.ieshhaa  \n",
       "4      olarunt     https://www.instagram.com/olarunt  "
      ]
     },
     "execution_count": 428,
     "metadata": {},
     "output_type": "execute_result"
    }
   ],
   "source": [
    "df5['Link to Account'] = [x[0]['href'] for x in df5['string_list_data']]\n",
    "df5.head()"
   ]
  },
  {
   "cell_type": "code",
   "execution_count": 429,
   "id": "1f605768-1575-4f0d-a989-d92c24cdfad8",
   "metadata": {},
   "outputs": [
    {
     "data": {
      "text/html": [
       "<div>\n",
       "<style scoped>\n",
       "    .dataframe tbody tr th:only-of-type {\n",
       "        vertical-align: middle;\n",
       "    }\n",
       "\n",
       "    .dataframe tbody tr th {\n",
       "        vertical-align: top;\n",
       "    }\n",
       "\n",
       "    .dataframe thead th {\n",
       "        text-align: right;\n",
       "    }\n",
       "</style>\n",
       "<table border=\"1\" class=\"dataframe\">\n",
       "  <thead>\n",
       "    <tr style=\"text-align: right;\">\n",
       "      <th></th>\n",
       "      <th>Time of Follow</th>\n",
       "      <th>Account Name</th>\n",
       "      <th>Link to Account</th>\n",
       "    </tr>\n",
       "  </thead>\n",
       "  <tbody>\n",
       "    <tr>\n",
       "      <th>0</th>\n",
       "      <td>1725887506</td>\n",
       "      <td>k1ng_vert_</td>\n",
       "      <td>https://www.instagram.com/k1ng_vert_</td>\n",
       "    </tr>\n",
       "    <tr>\n",
       "      <th>1</th>\n",
       "      <td>1725679895</td>\n",
       "      <td>swapafr</td>\n",
       "      <td>https://www.instagram.com/swapafr</td>\n",
       "    </tr>\n",
       "    <tr>\n",
       "      <th>2</th>\n",
       "      <td>1725642228</td>\n",
       "      <td>thankschow</td>\n",
       "      <td>https://www.instagram.com/thankschow</td>\n",
       "    </tr>\n",
       "    <tr>\n",
       "      <th>3</th>\n",
       "      <td>1725386551</td>\n",
       "      <td>n.ieshhaa</td>\n",
       "      <td>https://www.instagram.com/n.ieshhaa</td>\n",
       "    </tr>\n",
       "    <tr>\n",
       "      <th>4</th>\n",
       "      <td>1725262958</td>\n",
       "      <td>olarunt</td>\n",
       "      <td>https://www.instagram.com/olarunt</td>\n",
       "    </tr>\n",
       "    <tr>\n",
       "      <th>5</th>\n",
       "      <td>1724616579</td>\n",
       "      <td>phillygyal.__</td>\n",
       "      <td>https://www.instagram.com/phillygyal.__</td>\n",
       "    </tr>\n",
       "    <tr>\n",
       "      <th>6</th>\n",
       "      <td>1724426473</td>\n",
       "      <td>nevergoindigital</td>\n",
       "      <td>https://www.instagram.com/nevergoindigital</td>\n",
       "    </tr>\n",
       "    <tr>\n",
       "      <th>7</th>\n",
       "      <td>1724284995</td>\n",
       "      <td>iwantnishaa216</td>\n",
       "      <td>https://www.instagram.com/iwantnishaa216</td>\n",
       "    </tr>\n",
       "    <tr>\n",
       "      <th>8</th>\n",
       "      <td>1724256372</td>\n",
       "      <td>foenemcreations</td>\n",
       "      <td>https://www.instagram.com/foenemcreations</td>\n",
       "    </tr>\n",
       "    <tr>\n",
       "      <th>9</th>\n",
       "      <td>1724060506</td>\n",
       "      <td>i1_7.c</td>\n",
       "      <td>https://www.instagram.com/i1_7.c</td>\n",
       "    </tr>\n",
       "  </tbody>\n",
       "</table>\n",
       "</div>"
      ],
      "text/plain": [
       "   Time of Follow      Account Name  \\\n",
       "0      1725887506        k1ng_vert_   \n",
       "1      1725679895           swapafr   \n",
       "2      1725642228        thankschow   \n",
       "3      1725386551         n.ieshhaa   \n",
       "4      1725262958           olarunt   \n",
       "5      1724616579     phillygyal.__   \n",
       "6      1724426473  nevergoindigital   \n",
       "7      1724284995    iwantnishaa216   \n",
       "8      1724256372   foenemcreations   \n",
       "9      1724060506            i1_7.c   \n",
       "\n",
       "                              Link to Account  \n",
       "0        https://www.instagram.com/k1ng_vert_  \n",
       "1           https://www.instagram.com/swapafr  \n",
       "2        https://www.instagram.com/thankschow  \n",
       "3         https://www.instagram.com/n.ieshhaa  \n",
       "4           https://www.instagram.com/olarunt  \n",
       "5     https://www.instagram.com/phillygyal.__  \n",
       "6  https://www.instagram.com/nevergoindigital  \n",
       "7    https://www.instagram.com/iwantnishaa216  \n",
       "8   https://www.instagram.com/foenemcreations  \n",
       "9            https://www.instagram.com/i1_7.c  "
      ]
     },
     "execution_count": 429,
     "metadata": {},
     "output_type": "execute_result"
    }
   ],
   "source": [
    "del df5[\"string_list_data\"]\n",
    "df5.head(10)"
   ]
  },
  {
   "cell_type": "markdown",
   "id": "8aae1acb-1f89-4c84-85f4-64bba0ebb103",
   "metadata": {},
   "source": [
    "Finally got the dataframe looking nice and easy to understand this was one of my main goals because an easy to understand table makes the entire project easy to understand."
   ]
  },
  {
   "cell_type": "code",
   "execution_count": 463,
   "id": "30205e0a-9e9b-4cc4-a1e7-1bcf129c3197",
   "metadata": {},
   "outputs": [
    {
     "data": {
      "text/html": [
       "<div>\n",
       "<style scoped>\n",
       "    .dataframe tbody tr th:only-of-type {\n",
       "        vertical-align: middle;\n",
       "    }\n",
       "\n",
       "    .dataframe tbody tr th {\n",
       "        vertical-align: top;\n",
       "    }\n",
       "\n",
       "    .dataframe thead th {\n",
       "        text-align: right;\n",
       "    }\n",
       "</style>\n",
       "<table border=\"1\" class=\"dataframe\">\n",
       "  <thead>\n",
       "    <tr style=\"text-align: right;\">\n",
       "      <th></th>\n",
       "      <th>Time of Follow</th>\n",
       "      <th>Account Name</th>\n",
       "      <th>Link to Account</th>\n",
       "    </tr>\n",
       "  </thead>\n",
       "  <tbody>\n",
       "    <tr>\n",
       "      <th>586</th>\n",
       "      <td>1695621942</td>\n",
       "      <td>ochoov1</td>\n",
       "      <td>https://www.instagram.com/ochoov1</td>\n",
       "    </tr>\n",
       "    <tr>\n",
       "      <th>587</th>\n",
       "      <td>1695348504</td>\n",
       "      <td>lysaswrld</td>\n",
       "      <td>https://www.instagram.com/lysaswrld</td>\n",
       "    </tr>\n",
       "    <tr>\n",
       "      <th>588</th>\n",
       "      <td>1695332576</td>\n",
       "      <td>ralanstyles</td>\n",
       "      <td>https://www.instagram.com/ralanstyles</td>\n",
       "    </tr>\n",
       "    <tr>\n",
       "      <th>589</th>\n",
       "      <td>1695132859</td>\n",
       "      <td>kaylaa.andrea_</td>\n",
       "      <td>https://www.instagram.com/kaylaa.andrea_</td>\n",
       "    </tr>\n",
       "    <tr>\n",
       "      <th>590</th>\n",
       "      <td>1695092975</td>\n",
       "      <td>d1.quan</td>\n",
       "      <td>https://www.instagram.com/d1.quan</td>\n",
       "    </tr>\n",
       "    <tr>\n",
       "      <th>591</th>\n",
       "      <td>1694717860</td>\n",
       "      <td>prototype.collective</td>\n",
       "      <td>https://www.instagram.com/prototype.collective</td>\n",
       "    </tr>\n",
       "    <tr>\n",
       "      <th>592</th>\n",
       "      <td>1694703421</td>\n",
       "      <td>westonbergmann</td>\n",
       "      <td>https://www.instagram.com/westonbergmann</td>\n",
       "    </tr>\n",
       "    <tr>\n",
       "      <th>593</th>\n",
       "      <td>1694703375</td>\n",
       "      <td>itsravyn</td>\n",
       "      <td>https://www.instagram.com/itsravyn</td>\n",
       "    </tr>\n",
       "    <tr>\n",
       "      <th>594</th>\n",
       "      <td>1694599323</td>\n",
       "      <td>beatsby_jt</td>\n",
       "      <td>https://www.instagram.com/beatsby_jt</td>\n",
       "    </tr>\n",
       "    <tr>\n",
       "      <th>595</th>\n",
       "      <td>1694535395</td>\n",
       "      <td>brezdn</td>\n",
       "      <td>https://www.instagram.com/brezdn</td>\n",
       "    </tr>\n",
       "  </tbody>\n",
       "</table>\n",
       "</div>"
      ],
      "text/plain": [
       "     Time of Follow          Account Name  \\\n",
       "586      1695621942               ochoov1   \n",
       "587      1695348504             lysaswrld   \n",
       "588      1695332576           ralanstyles   \n",
       "589      1695132859        kaylaa.andrea_   \n",
       "590      1695092975               d1.quan   \n",
       "591      1694717860  prototype.collective   \n",
       "592      1694703421        westonbergmann   \n",
       "593      1694703375              itsravyn   \n",
       "594      1694599323            beatsby_jt   \n",
       "595      1694535395                brezdn   \n",
       "\n",
       "                                    Link to Account  \n",
       "586               https://www.instagram.com/ochoov1  \n",
       "587             https://www.instagram.com/lysaswrld  \n",
       "588           https://www.instagram.com/ralanstyles  \n",
       "589        https://www.instagram.com/kaylaa.andrea_  \n",
       "590               https://www.instagram.com/d1.quan  \n",
       "591  https://www.instagram.com/prototype.collective  \n",
       "592        https://www.instagram.com/westonbergmann  \n",
       "593              https://www.instagram.com/itsravyn  \n",
       "594            https://www.instagram.com/beatsby_jt  \n",
       "595                https://www.instagram.com/brezdn  "
      ]
     },
     "execution_count": 463,
     "metadata": {},
     "output_type": "execute_result"
    }
   ],
   "source": [
    "df5.tail(10)"
   ]
  },
  {
   "cell_type": "markdown",
   "id": "426c8339-4440-4af7-a23c-d29b7e9559b5",
   "metadata": {},
   "source": [
    "I output the tail of the dataframe just to double check how many rows there were and also to see the time of follow for the oldest entry so that I can add that and the newest entry and then divide by two to have an \"average\" but I am more so looking at it as a middle point. My hypothesis is that I have been more active following people recently so if I can see how many rows or entries come more recently than the middle point and compare that to how many entries there are as a whole I can have data and evidence to support my hypothesis."
   ]
  },
  {
   "cell_type": "code",
   "execution_count": 477,
   "id": "821a0e3f-fa51-405b-ab28-3f9c23c653b8",
   "metadata": {},
   "outputs": [
    {
     "data": {
      "text/plain": [
       "358"
      ]
     },
     "execution_count": 477,
     "metadata": {},
     "output_type": "execute_result"
    }
   ],
   "source": [
    "len(df5[df5['Time of Follow'] > 1710211450])"
   ]
  },
  {
   "cell_type": "markdown",
   "id": "4f6ec5fe-e56a-4ab9-a89c-3dfdb2a3ca8a",
   "metadata": {},
   "source": [
    "There are 595 entires or follows in this dataframe and 358 of those come more recent than the middle point which is 1710211450. 61% of my follows have come more recently than the middle point which should be more than normal one would think about 50% so my hypothesis is correct. I had a lot of fun with this project I would have had more fun and felt better about it if I had more knowledge on pandas or python in general. I wanted to analyze my message times and see if it was reflective of my work and school schedule but I simply do not know enough to execute that correctly. I would like to tackle that subject and perhaps use a graph as I get more knowledge and more comfortable with the class."
   ]
  }
 ],
 "metadata": {
  "kernelspec": {
   "display_name": "Python 3 (ipykernel)",
   "language": "python",
   "name": "python3"
  },
  "language_info": {
   "codemirror_mode": {
    "name": "ipython",
    "version": 3
   },
   "file_extension": ".py",
   "mimetype": "text/x-python",
   "name": "python",
   "nbconvert_exporter": "python",
   "pygments_lexer": "ipython3",
   "version": "3.12.4"
  }
 },
 "nbformat": 4,
 "nbformat_minor": 5
}
